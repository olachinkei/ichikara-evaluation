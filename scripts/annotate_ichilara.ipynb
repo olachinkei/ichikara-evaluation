{
 "cells": [
  {
   "cell_type": "code",
   "execution_count": null,
   "metadata": {},
   "outputs": [],
   "source": [
    "import pandas as pd\n",
    "import os\n",
    "\n",
    "# Load the CSV file\n",
    "file_path = 'your_original_file.csv'  # Replace with your actual file path\n",
    "df = pd.read_csv(file_path)\n",
    "\n",
    "# Add new columns for 流暢性, 情報量, 関連性, and 正確性\n",
    "df['流暢性'] = ''\n",
    "df['情報量'] = ''\n",
    "df['関連性'] = ''\n",
    "df['正確性'] = ''\n",
    "\n",
    "# Keep only the specified columns\n",
    "df_minimized = df[['inputs.example.text', 'output.model_output.generated_text.content', \n",
    "                   '流暢性', '情報量', '関連性', '正確性']]\n",
    "\n",
    "# Modify the file name to add \"_for_human_eval\"\n",
    "file_name, file_extension = os.path.splitext(file_path)\n",
    "output_path = f\"{file_name}_for_human_eval{file_extension}\"\n",
    "\n",
    "# Save the minimized CSV\n",
    "df_minimized.to_csv(output_path, index=False)"
   ]
  }
 ],
 "metadata": {
  "language_info": {
   "name": "python"
  }
 },
 "nbformat": 4,
 "nbformat_minor": 2
}
